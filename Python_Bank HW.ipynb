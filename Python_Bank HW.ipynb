{
 "cells": [
  {
   "cell_type": "code",
   "execution_count": 1,
   "metadata": {},
   "outputs": [
    {
     "ename": "SyntaxError",
     "evalue": "invalid syntax (<ipython-input-1-0da311069e7d>, line 4)",
     "output_type": "error",
     "traceback": [
      "\u001b[0;36m  File \u001b[0;32m\"<ipython-input-1-0da311069e7d>\"\u001b[0;36m, line \u001b[0;32m4\u001b[0m\n\u001b[0;31m    choose 1 or 2\u001b[0m\n\u001b[0m           ^\u001b[0m\n\u001b[0;31mSyntaxError\u001b[0m\u001b[0;31m:\u001b[0m invalid syntax\n"
     ]
    }
   ],
   "source": [
    "import csv\n",
    "import os\n",
    "\t\n",
    "choose 1 or 2\n",
    "file_num = 2\n",
    "\t\n",
    "# create file path and save as file\n",
    "\tfile = os.path.join('raw_data', 'budget_data_'+ str(file_num) +'.csv')\n",
    "\t\n",
    "\n",
    "\t#emply lists for month and revenue data\n",
    "\tmonths = []\n",
    "\trevenue = []\n",
    "\t\n",
    "\n",
    "\t#read csv and parse data into lists\n",
    "\t#revenue list will be list of integers\n",
    "\twith open(file, 'r') as csvfile:\n",
    "\t    csvread = csv.reader(csvfile)\n",
    "\t    \n",
    "\t    next(csvread, None)\n",
    "\t\n",
    "\n",
    "\t    for row in csvread:\n",
    "\t        months.append(row[0])\n",
    "\t        revenue.append(int(row[1]))\n",
    "\t\n",
    "\n",
    "\t#find total months\n",
    "\ttotal_months = len(months)\n",
    "\t\n",
    "\n",
    "\t#create greatest increase, decrease variables and set them equal to the first revenue entry\n",
    "\t#set total revenue = 0 \n",
    "\tgreatest_inc = revenue[0]\n",
    "\tgreatest_dec = revenue[0]\n",
    "\ttotal_revenue = 0\n",
    "\t\n",
    "\n",
    "\t#loop through revenue indices and compare # to find greatest inc and dec\n",
    "\t#also add each revenue to total revenue\n",
    "\tfor r in range(len(revenue)):\n",
    "\t    if revenue[r] >= greatest_inc:\n",
    "\t        greatest_inc = revenue[r]\n",
    "\t        great_inc_month = months[r]\n",
    "\t    elif revenue[r] <= greatest_dec:\n",
    "\t        greatest_dec = revenue[r]\n",
    "\t        great_dec_month = months[r]\n",
    "\t    total_revenue += revenue[r]\n",
    "\t\n",
    "\n",
    "\t#calculate average_change\n",
    "\taverage_change = round(total_revenue/total_months, 2)\n",
    "\t\n",
    "\n",
    "\t#sets path for output file\n",
    "\toutput_dest = os.path.join('Output','pybank_output_' + str(file_num) + '.txt')\n",
    "\t\n",
    "\n",
    "\t# opens the output destination in write mode and prints the summary\n",
    "\twith open(output_dest, 'w') as writefile:\n",
    "\t    writefile.writelines('Financial Analysis\\n')\n",
    "\t    writefile.writelines('----------------------------' + '\\n')\n",
    "\t    writefile.writelines('Total Months: ' + str(total_months) + '\\n')\n",
    "\t    writefile.writelines('Total Revenue: $' + str(total_revenue) + '\\n')\n",
    "\t    writefile.writelines('Average Revenue Change: $' + str(average_change) + '\\n')\n",
    "\t    writefile.writelines('Greatest Increase in Revenue: ' + great_inc_month + ' ($' + str(greatest_inc) + ')'+ '\\n')\n",
    "\t    writefile.writelines('Greatest Decrease in Revenue: ' + great_dec_month + ' ($' + str(greatest_dec) + ')')\n",
    "\t\n",
    "\n",
    "\t#opens the output file in r mode and prints to terminal\n",
    "\twith open(output_dest, 'r') as readfile:\n",
    "\t    print(readfile.read())\n"
   ]
  },
  {
   "cell_type": "code",
   "execution_count": null,
   "metadata": {},
   "outputs": [],
   "source": []
  }
 ],
 "metadata": {
  "kernelspec": {
   "display_name": "Python [default]",
   "language": "python",
   "name": "python3"
  },
  "language_info": {
   "codemirror_mode": {
    "name": "ipython",
    "version": 3
   },
   "file_extension": ".py",
   "mimetype": "text/x-python",
   "name": "python",
   "nbconvert_exporter": "python",
   "pygments_lexer": "ipython3",
   "version": "3.6.5"
  }
 },
 "nbformat": 4,
 "nbformat_minor": 2
}
