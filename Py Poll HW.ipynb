{
 "cells": [
  {
   "cell_type": "code",
   "execution_count": null,
   "metadata": {},
   "outputs": [],
   "source": [
    "import csv\n",
    "import os\n",
    "\n",
    "#upload files\n",
    "file_to_load = os.path.join(\"resources\", \"election_data.csv\")\n",
    "file_to_output = os.path.join(\"analysis\", \"election_analysis.txt\")\n",
    "\n",
    "#candidate choice\n",
    "votes = 0\n",
    "winner_votes = 0\n",
    "total_candidates = 0\n",
    "total_votes = [\"\", 0]\n",
    "candidate_options = []\n",
    "candidate_votes = {}\n",
    "\n",
    "\n",
    "# Read the csv and convert it into a list of dictionaries\n",
    "with open(file_to_load) as election_data:\n",
    "    reader = csv.reader(election_data)\n",
    "\n",
    "    # header\n",
    "    header = next(reader)\n",
    "\n",
    "    for row in reader:\n",
    "\n",
    "        # Add count\n",
    "        total_votes = total_votes + 1\n",
    "\n",
    "        # get candidate name\n",
    "        candidate_name = row[2]\n",
    "\n",
    "        ##if statement\n",
    "        if candidate_name not in candidate_options:\n",
    "\n",
    "\n",
    "            candidate_options.append(candidate_name)\n",
    "            \n",
    "            candidate_votes[candidate_name] = 0\n",
    "\n",
    "        else:\n",
    "            \n",
    "        candidate_votes[candidate_name] = candidate_votes[candidate_name] + 1\n",
    "\n",
    "# print\n",
    "with open(file_to_output, \"w\") as txt_file:\n",
    "\n",
    "    # Print the final vote count (to terminal)\n",
    "    election_results = (\n",
    "        f\"\\n\\nElection Results\\n\"\n",
    "        f\"-------------------------\\n\"\n",
    "        f\"Total Votes: {total_votes}\\n\"\n",
    "        f\"-------------------------\\n\")\n",
    "    print(election_results, end=\"\")\n",
    "\n",
    "    \n",
    "    "
   ]
  }
 ],
 "metadata": {
  "kernelspec": {
   "display_name": "Python [default]",
   "language": "python",
   "name": "python3"
  },
  "language_info": {
   "codemirror_mode": {
    "name": "ipython",
    "version": 3
   },
   "file_extension": ".py",
   "mimetype": "text/x-python",
   "name": "python",
   "nbconvert_exporter": "python",
   "pygments_lexer": "ipython3",
   "version": "3.6.5"
  }
 },
 "nbformat": 4,
 "nbformat_minor": 2
}
